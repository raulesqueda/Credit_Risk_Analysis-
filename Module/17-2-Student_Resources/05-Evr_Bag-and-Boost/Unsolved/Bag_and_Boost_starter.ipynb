{
 "cells": [
  {
   "cell_type": "code",
   "execution_count": 1,
   "metadata": {},
   "outputs": [],
   "source": [
    "%matplotlib inline\n",
    "from matplotlib import pyplot as plt\n",
    "from sklearn.datasets import make_regression\n",
    "import numpy as np\n",
    "import pandas as pd\n",
    "from sklearn.model_selection import train_test_split\n",
    "from sklearn.preprocessing import StandardScaler\n",
    "from sklearn.metrics import classification_report"
   ]
  },
  {
   "cell_type": "code",
   "execution_count": 2,
   "metadata": {},
   "outputs": [],
   "source": [
    "# Read in the diabetes dataset\n",
    "df = pd.read_csv('../Resources/diabetes.csv')\n",
    "X = df.drop('Outcome', axis=1)\n",
    "y = df['Outcome']\n",
    "target_names = [\"negative\", \"positive\"]"
   ]
  },
  {
   "cell_type": "code",
   "execution_count": 3,
   "metadata": {},
   "outputs": [],
   "source": [
    "# Prepare the data\n",
    "X_train, X_test, y_train, y_test = train_test_split(X, y, random_state=1)\n",
    "scaler = StandardScaler().fit(X_train)\n",
    "X_train_scaled = scaler.transform(X_train)\n",
    "X_test_scaled = scaler.transform(X_test)"
   ]
  },
  {
   "cell_type": "code",
   "execution_count": 4,
   "metadata": {},
   "outputs": [],
   "source": [
    "# Import a Random Forests classifier\n",
    "from sklearn.ensemble import RandomForestClassifier"
   ]
  },
  {
   "cell_type": "code",
   "execution_count": 7,
   "metadata": {},
   "outputs": [
    {
     "name": "stdout",
     "output_type": "stream",
     "text": [
      "              precision    recall  f1-score   support\n",
      "\n",
      "    negative       0.83      0.89      0.85       123\n",
      "    positive       0.77      0.67      0.71        69\n",
      "\n",
      "    accuracy                           0.81       192\n",
      "   macro avg       0.80      0.78      0.78       192\n",
      "weighted avg       0.80      0.81      0.80       192\n",
      "\n",
      "Training:1.0\n",
      "Testing:0.8072916666666666\n"
     ]
    }
   ],
   "source": [
    "# Fit the Random Forests classifier model, and then print a classification report and the training and testing scores\n",
    "clf=RandomForestClassifier(random_state=42).fit(X_train_scaled,y_train)\n",
    "y_pred=clf.predict(X_test_scaled)\n",
    "print(classification_report(y_test,y_pred,target_names=target_names))\n",
    "print(f'Training:{clf.score(X_train_scaled,y_train)}')\n",
    "print(f'Testing:{clf.score(X_test_scaled,y_test)}')"
   ]
  },
  {
   "cell_type": "code",
   "execution_count": 9,
   "metadata": {},
   "outputs": [],
   "source": [
    "# Import an Extremely Random Trees classifier\n",
    "from sklearn.ensemble import ExtraTreesClassifier"
   ]
  },
  {
   "cell_type": "code",
   "execution_count": 10,
   "metadata": {},
   "outputs": [
    {
     "name": "stdout",
     "output_type": "stream",
     "text": [
      "              precision    recall  f1-score   support\n",
      "\n",
      "    negative       0.80      0.89      0.84       123\n",
      "    positive       0.75      0.59      0.66        69\n",
      "\n",
      "    accuracy                           0.78       192\n",
      "   macro avg       0.77      0.74      0.75       192\n",
      "weighted avg       0.78      0.78      0.77       192\n",
      "\n",
      "Training:1.0\n",
      "Testing:0.78125\n"
     ]
    }
   ],
   "source": [
    "# Fit the Extremely Random Trees classifier model, and then print a classification report and the training and testing scores\n",
    "clf=ExtraTreesClassifier(random_state=42).fit(X_train_scaled,y_train)\n",
    "y_pred=clf.predict(X_test_scaled)\n",
    "print(classification_report(y_test,y_pred,target_names=target_names))\n",
    "print(f'Training:{clf.score(X_train_scaled,y_train)}')\n",
    "print(f'Testing:{clf.score(X_test_scaled,y_test)}')"
   ]
  },
  {
   "cell_type": "code",
   "execution_count": 11,
   "metadata": {},
   "outputs": [],
   "source": [
    "# Import an Adaptive Boosting classifier\n",
    "from sklearn.ensemble import AdaBoostClassifier"
   ]
  },
  {
   "cell_type": "code",
   "execution_count": 12,
   "metadata": {},
   "outputs": [
    {
     "name": "stdout",
     "output_type": "stream",
     "text": [
      "              precision    recall  f1-score   support\n",
      "\n",
      "    negative       0.83      0.85      0.84       123\n",
      "    positive       0.73      0.70      0.71        69\n",
      "\n",
      "    accuracy                           0.80       192\n",
      "   macro avg       0.78      0.77      0.78       192\n",
      "weighted avg       0.80      0.80      0.80       192\n",
      "\n",
      "Training:0.8229166666666666\n",
      "Testing:0.796875\n"
     ]
    }
   ],
   "source": [
    "# Fit the Adaptive Boosting classifier model, and then print a classification report and the training and testing scores\n",
    "clf=AdaBoostClassifier(random_state=42).fit(X_train_scaled,y_train)\n",
    "y_pred=clf.predict(X_test_scaled)\n",
    "print(classification_report(y_test,y_pred,target_names=target_names))\n",
    "print(f'Training:{clf.score(X_train_scaled,y_train)}')\n",
    "print(f'Testing:{clf.score(X_test_scaled,y_test)}')"
   ]
  },
  {
   "cell_type": "code",
   "execution_count": 13,
   "metadata": {},
   "outputs": [],
   "source": [
    "# BONUS\n",
    "# Create a function to simplify testing the different models\n",
    "def model_tester(model,X,y):\n",
    "    X_train, X_test, y_train, y_test = train_test_split(X, y, random_state=1)\n",
    "    scaler = StandardScaler().fit(X_train)\n",
    "    X_train_scaled = scaler.transform(X_train)\n",
    "    X_test_scaled = scaler.transform(X_test)\n",
    "    clf=model.fit(X_train_scaled,y_train)\n",
    "    print(classification_report(y_test,y_pred,target_names=target_names))\n",
    "    print(f'Training:{clf.score(X_train_scaled,y_train)}')\n",
    "    print(f'Testing:{clf.score(X_test_scaled,y_test)}')\n",
    "    \n"
   ]
  },
  {
   "cell_type": "code",
   "execution_count": 14,
   "metadata": {},
   "outputs": [
    {
     "name": "stdout",
     "output_type": "stream",
     "text": [
      "              precision    recall  f1-score   support\n",
      "\n",
      "    negative       0.83      0.85      0.84       123\n",
      "    positive       0.73      0.70      0.71        69\n",
      "\n",
      "    accuracy                           0.80       192\n",
      "   macro avg       0.78      0.77      0.78       192\n",
      "weighted avg       0.80      0.80      0.80       192\n",
      "\n",
      "Training:0.8229166666666666\n",
      "Testing:0.796875\n"
     ]
    }
   ],
   "source": [
    "model_tester(AdaBoostClassifier(random_state=1),X,y)"
   ]
  },
  {
   "cell_type": "code",
   "execution_count": 15,
   "metadata": {},
   "outputs": [
    {
     "name": "stdout",
     "output_type": "stream",
     "text": [
      "              precision    recall  f1-score   support\n",
      "\n",
      "    negative       0.83      0.85      0.84       123\n",
      "    positive       0.73      0.70      0.71        69\n",
      "\n",
      "    accuracy                           0.80       192\n",
      "   macro avg       0.78      0.77      0.78       192\n",
      "weighted avg       0.80      0.80      0.80       192\n",
      "\n",
      "Training:0.8819444444444444\n",
      "Testing:0.7916666666666666\n",
      "              precision    recall  f1-score   support\n",
      "\n",
      "    negative       0.83      0.85      0.84       123\n",
      "    positive       0.73      0.70      0.71        69\n",
      "\n",
      "    accuracy                           0.80       192\n",
      "   macro avg       0.78      0.77      0.78       192\n",
      "weighted avg       0.80      0.80      0.80       192\n",
      "\n",
      "Training:0.8454861111111112\n",
      "Testing:0.8229166666666666\n",
      "              precision    recall  f1-score   support\n",
      "\n",
      "    negative       0.83      0.85      0.84       123\n",
      "    positive       0.73      0.70      0.71        69\n",
      "\n",
      "    accuracy                           0.80       192\n",
      "   macro avg       0.78      0.77      0.78       192\n",
      "weighted avg       0.80      0.80      0.80       192\n",
      "\n",
      "Training:0.8802083333333334\n",
      "Testing:0.8020833333333334\n"
     ]
    }
   ],
   "source": [
    "model_tester(AdaBoostClassifier(random_state=1,n_estimators=200),X,y)\n",
    "model_tester(AdaBoostClassifier(random_state=1,n_estimators=500,learning_rate=0.2),X,y)\n",
    "model_tester(AdaBoostClassifier(random_state=1,n_estimators=2000,learning_rate=0.2),X,y)"
   ]
  }
 ],
 "metadata": {
  "kernelspec": {
   "display_name": "Python 3 (ipykernel)",
   "language": "python",
   "name": "python3"
  },
  "language_info": {
   "codemirror_mode": {
    "name": "ipython",
    "version": 3
   },
   "file_extension": ".py",
   "mimetype": "text/x-python",
   "name": "python",
   "nbconvert_exporter": "python",
   "pygments_lexer": "ipython3",
   "version": "3.7.13"
  }
 },
 "nbformat": 4,
 "nbformat_minor": 4
}
